{
 "cells": [
  {
   "cell_type": "markdown",
   "metadata": {},
   "source": [
    "# Part -1 Python Basics (Variables)"
   ]
  },
  {
   "cell_type": "markdown",
   "metadata": {},
   "source": [
    "1. Print Your Name with your Father name and Date of birth using suitable escape sequence charactor"
   ]
  },
  {
   "cell_type": "code",
   "execution_count": 21,
   "metadata": {},
   "outputs": [
    {
     "name": "stdout",
     "output_type": "stream",
     "text": [
      "Name: \t\t Hanzala Khan\n",
      "Father Name:\t Mustaqeem Khan\n",
      "Date of Birth:\t 14-jan-2006\n"
     ]
    }
   ],
   "source": [
    "print('Name: \\t\\t Hanzala Khan\\nFather Name:\\t Mustaqeem Khan\\nDate of Birth:\\t 14-jan-2006')"
   ]
  },
  {
   "cell_type": "markdown",
   "metadata": {},
   "source": [
    "2. Write your small bio using variables and print it using print function"
   ]
  },
  {
   "cell_type": "code",
   "execution_count": 24,
   "metadata": {},
   "outputs": [
    {
     "name": "stdout",
     "output_type": "stream",
     "text": [
      "----- My Bio -----\n",
      "Name:\t\tHanzala Khan\n",
      "Father's Name:\tMustaqeem Khan\n",
      "Date of Birth:\t14-01-2006\n",
      "Profession:\tFrontend Developer\n",
      "Hobby:\t\tCoding and Gaming\n"
     ]
    }
   ],
   "source": [
    "name = \"Hanzala Khan\"\n",
    "father_name = \"Mustaqeem Khan\"\n",
    "dob = \"14-01-2006\"\n",
    "profession = \"Frontend Developer\"\n",
    "hobby = \"Coding and Gaming\"\n",
    "\n",
    "# Printing the bio\n",
    "print(\"----- My Bio -----\")\n",
    "print(f\"Name:\\t\\t{name}\")\n",
    "print(f\"Father's Name:\\t{father_name}\")\n",
    "print(f\"Date of Birth:\\t{dob}\")\n",
    "print(f\"Profession:\\t{profession}\")\n",
    "print(f\"Hobby:\\t\\t{hobby}\")\n"
   ]
  },
  {
   "cell_type": "markdown",
   "metadata": {},
   "source": [
    "3. Write a program in which use all the operators we can use in Python"
   ]
  },
  {
   "cell_type": "code",
   "execution_count": 33,
   "metadata": {},
   "outputs": [
    {
     "name": "stdout",
     "output_type": "stream",
     "text": [
      "Arithmetic Operators:\n",
      "a + b = 13\n",
      "a - b = 7\n",
      "a * b = 30\n",
      "a / b = 3.3333333333333335\n",
      "a % b = 1\n",
      "a ** b = 1000\n",
      "a // b = 3\n",
      "\n",
      "Assignment Operators:\n",
      "7\n",
      "6\n",
      "18\n",
      "9.0\n",
      "0.0\n",
      "\n",
      "Comparison Operators:\n",
      "a == b => False\n",
      "a != b => True\n",
      "a > b  => True\n",
      "a < b  => False\n",
      "a >= b => True\n",
      "a <= b => False\n",
      "\n",
      "Logical Operators:\n",
      "p and q => False\n",
      "p or q => True\n",
      "not p => False\n"
     ]
    }
   ],
   "source": [
    "#Arithmetic Operators\n",
    "\n",
    "a = 10\n",
    "b = 3\n",
    "print(\"Arithmetic Operators:\")\n",
    "print(f\"a + b = {a + b}\")  # Addition\n",
    "print(f\"a - b = {a - b}\")  # Subtraction\n",
    "print(f\"a * b = {a * b}\")  # Multiplication\n",
    "print(f\"a / b = {a / b}\")  # Division\n",
    "print(f\"a % b = {a % b}\")  # Modulus (Remainder)\n",
    "print(f\"a ** b = {a ** b}\")  # Exponentiation (Power)\n",
    "print(f\"a // b = {a // b}\")  # Floor Division\n",
    "\n",
    "\n",
    "# Assignment Operators\n",
    "x = 5\n",
    "print(\"\\nAssignment Operators:\")\n",
    "x += 2\n",
    "print(x)\n",
    "x -= 1 \n",
    "print(x)\n",
    "x *= 3 \n",
    "print(x)\n",
    "x /= 2 \n",
    "print(x)\n",
    "x %= 3 \n",
    "print(x)\n",
    "\n",
    "# Comparison Operators\n",
    "print(\"\\nComparison Operators:\")\n",
    "print(f\"a == b => {a == b}\")  # Equal\n",
    "print(f\"a != b => {a != b}\")  # Not equal\n",
    "print(f\"a > b  => {a > b}\")  # Greater than\n",
    "print(f\"a < b  => {a < b}\")  # Less than\n",
    "print(f\"a >= b => {a >= b}\")  # Greater than or equal\n",
    "print(f\"a <= b => {a <= b}\")  # Less than or equal\n",
    "\n",
    "# Logical Operators\n",
    "p = True\n",
    "q = False\n",
    "\n",
    "print(\"\\nLogical Operators:\")\n",
    "print(f\"p and q => {p and q}\")  # AND\n",
    "print(f\"p or q => {p or q}\")  # OR \n",
    "print(f\"not p => {not p}\")  # NOT\n"
   ]
  },
  {
   "cell_type": "markdown",
   "metadata": {},
   "source": [
    "4. Completes the following steps of small task:\n",
    "    - Mention Marks of English , Islamiat and Maths out of 100 in 3 different variables\n",
    "    - Mention Variable of Total Marks and assign 300 to it\n",
    "    - Calculate Percentage"
   ]
  },
  {
   "cell_type": "code",
   "execution_count": 34,
   "metadata": {},
   "outputs": [
    {
     "name": "stdout",
     "output_type": "stream",
     "text": [
      "----- Student Marks & Percentage -----\n",
      "English Marks:  85 / 100\n",
      "Islamiat Marks: 90 / 100\n",
      "Maths Marks:    95 / 100\n",
      "Total Marks:    300\n",
      "Obtained Marks: 270\n",
      "Percentage:     90.00%\n"
     ]
    }
   ],
   "source": [
    "# Step 1: Mention Marks of Subjects (Out of 100)\n",
    "english_marks = 85\n",
    "islamiat_marks = 90\n",
    "maths_marks = 95\n",
    "\n",
    "total_marks = 300\n",
    "\n",
    "obtained_marks = english_marks + islamiat_marks + maths_marks\n",
    "\n",
    "percentage = (obtained_marks / total_marks) * 100\n",
    "\n",
    "print(\"----- Student Marks & Percentage -----\")\n",
    "print(f\"English Marks:  {english_marks} / 100\")\n",
    "print(f\"Islamiat Marks: {islamiat_marks} / 100\")\n",
    "print(f\"Maths Marks:    {maths_marks} / 100\")\n",
    "print(f\"Total Marks:    {total_marks}\")\n",
    "print(f\"Obtained Marks: {obtained_marks}\")\n",
    "print(f\"Percentage:     {percentage:.2f}%\")\n"
   ]
  },
  {
   "cell_type": "markdown",
   "metadata": {},
   "source": [
    "# Part -2 Python Basics (Conditional Statements)"
   ]
  },
  {
   "cell_type": "markdown",
   "metadata": {},
   "source": [
    "1) A company decided to give bonus of 5% to employee if his/her year of service is more than 5 years.\n",
    "Ask user for their salary and year of service and print the net bonus amount."
   ]
  },
  {
   "cell_type": "code",
   "execution_count": 5,
   "metadata": {},
   "outputs": [],
   "source": [
    "#Type your code here"
   ]
  },
  {
   "cell_type": "markdown",
   "metadata": {},
   "source": [
    "\n",
    "2) Write a program to check whether a person is eligible for voting or not. (accept age from user) if age is greater than 17 eligible otherwise not eligible"
   ]
  },
  {
   "cell_type": "code",
   "execution_count": 6,
   "metadata": {},
   "outputs": [],
   "source": [
    "#Type your code here"
   ]
  },
  {
   "cell_type": "markdown",
   "metadata": {},
   "source": [
    "\n",
    "3) Write a program to check whether a number entered by user is even or odd."
   ]
  },
  {
   "cell_type": "code",
   "execution_count": 7,
   "metadata": {},
   "outputs": [],
   "source": [
    "#Type your code here"
   ]
  },
  {
   "cell_type": "markdown",
   "metadata": {},
   "source": [
    "4) Write a program to check whether a number is divisible by 7 or not.\n",
    "Show Answer"
   ]
  },
  {
   "cell_type": "code",
   "execution_count": 8,
   "metadata": {},
   "outputs": [],
   "source": [
    "#Type your code here"
   ]
  },
  {
   "cell_type": "markdown",
   "metadata": {},
   "source": [
    "5) Write a program to display \n",
    "\"Hello\" if a number entered by user is a multiple of five , otherwise print \"Bye\"."
   ]
  },
  {
   "cell_type": "code",
   "execution_count": 9,
   "metadata": {},
   "outputs": [],
   "source": [
    "#Type your code here"
   ]
  },
  {
   "cell_type": "markdown",
   "metadata": {},
   "source": [
    "7) Write a program to display the last digit of a number.\n"
   ]
  },
  {
   "cell_type": "code",
   "execution_count": 10,
   "metadata": {},
   "outputs": [],
   "source": [
    "#Type your code here"
   ]
  },
  {
   "cell_type": "markdown",
   "metadata": {},
   "source": [
    "9) Take values of length and breadth of a rectangle from user and print if it is square or rectangle."
   ]
  },
  {
   "cell_type": "code",
   "execution_count": 11,
   "metadata": {},
   "outputs": [],
   "source": [
    "#Type your code here "
   ]
  },
  {
   "cell_type": "markdown",
   "metadata": {},
   "source": [
    "10) Take two int values from user and print greatest among them."
   ]
  },
  {
   "cell_type": "code",
   "execution_count": 12,
   "metadata": {},
   "outputs": [],
   "source": [
    "# Type your code here"
   ]
  },
  {
   "cell_type": "markdown",
   "metadata": {},
   "source": [
    "11) A shop will give discount of 10% if the cost of purchased quantity is more than 1000.\n",
    "Ask user for quantity\n",
    "Suppose, one unit will cost 100.\n",
    "Judge and print total cost for user."
   ]
  },
  {
   "cell_type": "code",
   "execution_count": 13,
   "metadata": {},
   "outputs": [],
   "source": [
    "#Type your code here"
   ]
  },
  {
   "cell_type": "markdown",
   "metadata": {},
   "source": [
    "12) A school has following rules for grading system:\n",
    "\n",
    "a. Below 25 - F\n",
    "\n",
    "b. 25 to 45 - E\n",
    "\n",
    "c. 45 to 50 - D\n",
    "\n",
    "d. 50 to 60 - C\n",
    "\n",
    "e. 60 to 80 - B\n",
    "\n",
    "f. Above 80 - A\n",
    "\n",
    "Ask user to enter marks and print the corresponding grade."
   ]
  },
  {
   "cell_type": "code",
   "execution_count": 14,
   "metadata": {},
   "outputs": [],
   "source": [
    "#Type your code here"
   ]
  },
  {
   "cell_type": "markdown",
   "metadata": {},
   "source": [
    "14)A student will not be allowed to sit in exam if his/her attendence is less than 75%.\n",
    "\n",
    "Take following input from user\n",
    "\n",
    "- Number of classes held\n",
    "\n",
    "- Number of classes attended.\n",
    "\n",
    "And print\n",
    "\n",
    "- percentage of class attended\n",
    "\n",
    "- Is student is allowed to sit in exam or not.\n"
   ]
  },
  {
   "cell_type": "code",
   "execution_count": 15,
   "metadata": {},
   "outputs": [],
   "source": [
    "#Type your code here"
   ]
  },
  {
   "cell_type": "markdown",
   "metadata": {},
   "source": [
    "15) Modify the above question to allow student to sit if he/she has medical cause. Ask user if he/she has medical cause or not ( 'Y' or 'N' ) and print accordingly."
   ]
  },
  {
   "cell_type": "code",
   "execution_count": 16,
   "metadata": {},
   "outputs": [],
   "source": [
    "#Type your code here"
   ]
  },
  {
   "cell_type": "markdown",
   "metadata": {},
   "source": [
    "16) Write a program to check if a year is leap year or not.\n",
    "\n",
    "If a year is divisible by 4 then it is leap year but if the year is century year like 2000, 1900, 2100 then it must be divisible by 400."
   ]
  },
  {
   "cell_type": "code",
   "execution_count": 17,
   "metadata": {},
   "outputs": [],
   "source": [
    "#Type your code here"
   ]
  },
  {
   "cell_type": "markdown",
   "metadata": {},
   "source": [
    "17) Ask user to enter age, gender ( M or F ), marital status ( Y or N ) and then using following rules print their place of service.\n",
    "\n",
    "if employee is female, then she will work only in urban areas.\n",
    "\n",
    "if employee is a male and age is in between 20 to 40 then he may work in anywhere\n",
    "\n",
    "if employee is male and age is in between 40 t0 60 then he will work in urban areas only.\n",
    "\n",
    "And any other input of age should print \"ERROR\""
   ]
  },
  {
   "cell_type": "code",
   "execution_count": 18,
   "metadata": {},
   "outputs": [],
   "source": [
    "#Type your code here"
   ]
  },
  {
   "cell_type": "markdown",
   "metadata": {},
   "source": [
    "6) Write a program to calculate the electricity bill (accept number of unit from user) according to the following criteria :\n",
    "     Unit                                                     Price  \n",
    "uptp 100 units                                             no charge\n",
    "Next 200 units                                              Rs 5 per unit\n",
    "After 200 units                                             Rs 10 per unit\n",
    "(For example if input unit is 350 than total bill amount is Rs.3500\n",
    "(For example if input unit is 97 than total bill amount is Rs.0\n",
    "(For example if input unit is 150 than total bill amount is Rs.750"
   ]
  },
  {
   "cell_type": "markdown",
   "metadata": {},
   "source": [
    "13) Take input of age of 3 people by user and determine oldest and youngest among them."
   ]
  },
  {
   "cell_type": "code",
   "execution_count": 19,
   "metadata": {},
   "outputs": [],
   "source": [
    "#Type your code here"
   ]
  }
 ],
 "metadata": {
  "kernelspec": {
   "display_name": "Python 3 (ipykernel)",
   "language": "python",
   "name": "python3"
  },
  "language_info": {
   "codemirror_mode": {
    "name": "ipython",
    "version": 3
   },
   "file_extension": ".py",
   "mimetype": "text/x-python",
   "name": "python",
   "nbconvert_exporter": "python",
   "pygments_lexer": "ipython3",
   "version": "3.12.7"
  }
 },
 "nbformat": 4,
 "nbformat_minor": 2
}
